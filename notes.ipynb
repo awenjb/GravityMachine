{
 "cells": [
  {
   "cell_type": "markdown",
   "metadata": {},
   "source": [
    "Méthode pour problème bi-obj avec variable binaires"
   ]
  },
  {
   "cell_type": "markdown",
   "metadata": {},
   "source": [
    "# TO DO\n",
    "\n",
    "### Constraint Handling in Genetic Algorithms : The Set Partitioning Problem\n",
    "\n"
   ]
  },
  {
   "cell_type": "markdown",
   "metadata": {
    "vscode": {
     "languageId": "plaintext"
    }
   },
   "source": [
    "# Idées\n",
    "\n",
    "- Idée pour estimer $n$ le nombre de points générateurs à l'avance ? => Estimation du nombre de points non dominé\n",
    "Peut être regarder les solution lexcicographique et estimer une courbe de potentiel résultats via la relaxation linéaire ?\n",
    "\n",
    "- Génération des cônes au niv du générateur pour laisser moins de solution non admissible (en fonction des points connus proches / solutions lexicographiques ?)\n",
    "\n",
    "- Génération du cone au nveau de la projection (modif ???)\n",
    "\n",
    "- 2eme rounding recherche local si on tombe dans une solution non admissible que l'on estime très proche de la région admissibe\n",
    "\n",
    "- Selection des points non dominés ?\n",
    "\n",
    "- Après génération de L, on trouve un points admissible et on effecture un path relinking entreœ L et le point de région admissible trouvé on espérant trouver de bonne solutions \n",
    "\n",
    "- Autres méthode de génération pour L (les points générateurs)\n",
    "\n",
    "- Indicateur de performances ? Hypervolume indicator ?"
   ]
  },
  {
   "cell_type": "markdown",
   "metadata": {},
   "source": [
    "Path relinking sur U\n",
    "\n",
    "Path relinking entre les solutions supportées ? (post traitement)\n",
    "\n",
    "solution proche des solutions admissible\n",
    "pousser var à 1 pour passer dans la région admissible (voisinage 0-1 échnage)\n",
    "\n",
    "Ypn maintenu\n",
    "Solution entière non admissible poussée vers la région admissible + tapé path relinking\n",
    "Attention a pas pousser trop loin sinon on trouve des points admissible mais dominé :c\n",
    "\n",
    "pathrelinking avec Ypn en cours d'execution\n",
    "\n",
    "EDA algorithme evaluation de distribution"
   ]
  }
 ],
 "metadata": {
  "language_info": {
   "name": "python"
  }
 },
 "nbformat": 4,
 "nbformat_minor": 2
}
